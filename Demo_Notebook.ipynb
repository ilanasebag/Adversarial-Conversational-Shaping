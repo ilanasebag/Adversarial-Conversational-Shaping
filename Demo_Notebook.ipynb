{
  "nbformat": 4,
  "nbformat_minor": 0,
  "metadata": {
    "colab": {
      "name": "NLP_Group_115_Demo.ipynb",
      "provenance": [],
      "collapsed_sections": []
    },
    "kernelspec": {
      "name": "python3",
      "display_name": "Python 3"
    },
    "language_info": {
      "name": "python"
    },
    "accelerator": "GPU",
    "widgets": {
      "application/vnd.jupyter.widget-state+json": {
        "4c9a768af6d540c0889f2639a32934c2": {
          "model_module": "@jupyter-widgets/controls",
          "model_name": "HBoxModel",
          "state": {
            "_view_name": "HBoxView",
            "_dom_classes": [],
            "_model_name": "HBoxModel",
            "_view_module": "@jupyter-widgets/controls",
            "_model_module_version": "1.5.0",
            "_view_count": null,
            "_view_module_version": "1.5.0",
            "box_style": "",
            "layout": "IPY_MODEL_8fa38d58639f4bfdaf15554aebe14948",
            "_model_module": "@jupyter-widgets/controls",
            "children": [
              "IPY_MODEL_e76abf3fa1184622921a9b193dbbbce9",
              "IPY_MODEL_80dea88d30074cd6b35c3e919ba55d4d"
            ]
          }
        },
        "8fa38d58639f4bfdaf15554aebe14948": {
          "model_module": "@jupyter-widgets/base",
          "model_name": "LayoutModel",
          "state": {
            "_view_name": "LayoutView",
            "grid_template_rows": null,
            "right": null,
            "justify_content": null,
            "_view_module": "@jupyter-widgets/base",
            "overflow": null,
            "_model_module_version": "1.2.0",
            "_view_count": null,
            "flex_flow": null,
            "width": null,
            "min_width": null,
            "border": null,
            "align_items": null,
            "bottom": null,
            "_model_module": "@jupyter-widgets/base",
            "top": null,
            "grid_column": null,
            "overflow_y": null,
            "overflow_x": null,
            "grid_auto_flow": null,
            "grid_area": null,
            "grid_template_columns": null,
            "flex": null,
            "_model_name": "LayoutModel",
            "justify_items": null,
            "grid_row": null,
            "max_height": null,
            "align_content": null,
            "visibility": null,
            "align_self": null,
            "height": null,
            "min_height": null,
            "padding": null,
            "grid_auto_rows": null,
            "grid_gap": null,
            "max_width": null,
            "order": null,
            "_view_module_version": "1.2.0",
            "grid_template_areas": null,
            "object_position": null,
            "object_fit": null,
            "grid_auto_columns": null,
            "margin": null,
            "display": null,
            "left": null
          }
        },
        "e76abf3fa1184622921a9b193dbbbce9": {
          "model_module": "@jupyter-widgets/controls",
          "model_name": "FloatProgressModel",
          "state": {
            "_view_name": "ProgressView",
            "style": "IPY_MODEL_04f4e343011e40328e425d7b700c37b3",
            "_dom_classes": [],
            "description": "Downloading: 100%",
            "_model_name": "FloatProgressModel",
            "bar_style": "success",
            "max": 1197,
            "_view_module": "@jupyter-widgets/controls",
            "_model_module_version": "1.5.0",
            "value": 1197,
            "_view_count": null,
            "_view_module_version": "1.5.0",
            "orientation": "horizontal",
            "min": 0,
            "description_tooltip": null,
            "_model_module": "@jupyter-widgets/controls",
            "layout": "IPY_MODEL_7cc3c5fecb6c4a14af70b57bef2b477f"
          }
        },
        "80dea88d30074cd6b35c3e919ba55d4d": {
          "model_module": "@jupyter-widgets/controls",
          "model_name": "HTMLModel",
          "state": {
            "_view_name": "HTMLView",
            "style": "IPY_MODEL_dab71b42c2404a71a0cd444127b05250",
            "_dom_classes": [],
            "description": "",
            "_model_name": "HTMLModel",
            "placeholder": "​",
            "_view_module": "@jupyter-widgets/controls",
            "_model_module_version": "1.5.0",
            "value": " 1.20k/1.20k [00:00&lt;00:00, 1.52kB/s]",
            "_view_count": null,
            "_view_module_version": "1.5.0",
            "description_tooltip": null,
            "_model_module": "@jupyter-widgets/controls",
            "layout": "IPY_MODEL_69651c046bc7496bacb6fec55a85b40d"
          }
        },
        "04f4e343011e40328e425d7b700c37b3": {
          "model_module": "@jupyter-widgets/controls",
          "model_name": "ProgressStyleModel",
          "state": {
            "_view_name": "StyleView",
            "_model_name": "ProgressStyleModel",
            "description_width": "initial",
            "_view_module": "@jupyter-widgets/base",
            "_model_module_version": "1.5.0",
            "_view_count": null,
            "_view_module_version": "1.2.0",
            "bar_color": null,
            "_model_module": "@jupyter-widgets/controls"
          }
        },
        "7cc3c5fecb6c4a14af70b57bef2b477f": {
          "model_module": "@jupyter-widgets/base",
          "model_name": "LayoutModel",
          "state": {
            "_view_name": "LayoutView",
            "grid_template_rows": null,
            "right": null,
            "justify_content": null,
            "_view_module": "@jupyter-widgets/base",
            "overflow": null,
            "_model_module_version": "1.2.0",
            "_view_count": null,
            "flex_flow": null,
            "width": null,
            "min_width": null,
            "border": null,
            "align_items": null,
            "bottom": null,
            "_model_module": "@jupyter-widgets/base",
            "top": null,
            "grid_column": null,
            "overflow_y": null,
            "overflow_x": null,
            "grid_auto_flow": null,
            "grid_area": null,
            "grid_template_columns": null,
            "flex": null,
            "_model_name": "LayoutModel",
            "justify_items": null,
            "grid_row": null,
            "max_height": null,
            "align_content": null,
            "visibility": null,
            "align_self": null,
            "height": null,
            "min_height": null,
            "padding": null,
            "grid_auto_rows": null,
            "grid_gap": null,
            "max_width": null,
            "order": null,
            "_view_module_version": "1.2.0",
            "grid_template_areas": null,
            "object_position": null,
            "object_fit": null,
            "grid_auto_columns": null,
            "margin": null,
            "display": null,
            "left": null
          }
        },
        "dab71b42c2404a71a0cd444127b05250": {
          "model_module": "@jupyter-widgets/controls",
          "model_name": "DescriptionStyleModel",
          "state": {
            "_view_name": "StyleView",
            "_model_name": "DescriptionStyleModel",
            "description_width": "",
            "_view_module": "@jupyter-widgets/base",
            "_model_module_version": "1.5.0",
            "_view_count": null,
            "_view_module_version": "1.2.0",
            "_model_module": "@jupyter-widgets/controls"
          }
        },
        "69651c046bc7496bacb6fec55a85b40d": {
          "model_module": "@jupyter-widgets/base",
          "model_name": "LayoutModel",
          "state": {
            "_view_name": "LayoutView",
            "grid_template_rows": null,
            "right": null,
            "justify_content": null,
            "_view_module": "@jupyter-widgets/base",
            "overflow": null,
            "_model_module_version": "1.2.0",
            "_view_count": null,
            "flex_flow": null,
            "width": null,
            "min_width": null,
            "border": null,
            "align_items": null,
            "bottom": null,
            "_model_module": "@jupyter-widgets/base",
            "top": null,
            "grid_column": null,
            "overflow_y": null,
            "overflow_x": null,
            "grid_auto_flow": null,
            "grid_area": null,
            "grid_template_columns": null,
            "flex": null,
            "_model_name": "LayoutModel",
            "justify_items": null,
            "grid_row": null,
            "max_height": null,
            "align_content": null,
            "visibility": null,
            "align_self": null,
            "height": null,
            "min_height": null,
            "padding": null,
            "grid_auto_rows": null,
            "grid_gap": null,
            "max_width": null,
            "order": null,
            "_view_module_version": "1.2.0",
            "grid_template_areas": null,
            "object_position": null,
            "object_fit": null,
            "grid_auto_columns": null,
            "margin": null,
            "display": null,
            "left": null
          }
        },
        "c017f30a0c964f38bb30624c008dc07d": {
          "model_module": "@jupyter-widgets/controls",
          "model_name": "HBoxModel",
          "state": {
            "_view_name": "HBoxView",
            "_dom_classes": [],
            "_model_name": "HBoxModel",
            "_view_module": "@jupyter-widgets/controls",
            "_model_module_version": "1.5.0",
            "_view_count": null,
            "_view_module_version": "1.5.0",
            "box_style": "",
            "layout": "IPY_MODEL_4bfb0bdf1cd246a2831884eca8cb13f7",
            "_model_module": "@jupyter-widgets/controls",
            "children": [
              "IPY_MODEL_a1ef8802105a4d8fbb4c07f27b75db7a",
              "IPY_MODEL_8a1a0378e20e4719938bb8e3980e6e7f"
            ]
          }
        },
        "4bfb0bdf1cd246a2831884eca8cb13f7": {
          "model_module": "@jupyter-widgets/base",
          "model_name": "LayoutModel",
          "state": {
            "_view_name": "LayoutView",
            "grid_template_rows": null,
            "right": null,
            "justify_content": null,
            "_view_module": "@jupyter-widgets/base",
            "overflow": null,
            "_model_module_version": "1.2.0",
            "_view_count": null,
            "flex_flow": null,
            "width": null,
            "min_width": null,
            "border": null,
            "align_items": null,
            "bottom": null,
            "_model_module": "@jupyter-widgets/base",
            "top": null,
            "grid_column": null,
            "overflow_y": null,
            "overflow_x": null,
            "grid_auto_flow": null,
            "grid_area": null,
            "grid_template_columns": null,
            "flex": null,
            "_model_name": "LayoutModel",
            "justify_items": null,
            "grid_row": null,
            "max_height": null,
            "align_content": null,
            "visibility": null,
            "align_self": null,
            "height": null,
            "min_height": null,
            "padding": null,
            "grid_auto_rows": null,
            "grid_gap": null,
            "max_width": null,
            "order": null,
            "_view_module_version": "1.2.0",
            "grid_template_areas": null,
            "object_position": null,
            "object_fit": null,
            "grid_auto_columns": null,
            "margin": null,
            "display": null,
            "left": null
          }
        },
        "a1ef8802105a4d8fbb4c07f27b75db7a": {
          "model_module": "@jupyter-widgets/controls",
          "model_name": "FloatProgressModel",
          "state": {
            "_view_name": "ProgressView",
            "style": "IPY_MODEL_e05b8990ba614ba5880ce504960b3b19",
            "_dom_classes": [],
            "description": "Downloading: 100%",
            "_model_name": "FloatProgressModel",
            "bar_style": "success",
            "max": 242065649,
            "_view_module": "@jupyter-widgets/controls",
            "_model_module_version": "1.5.0",
            "value": 242065649,
            "_view_count": null,
            "_view_module_version": "1.5.0",
            "orientation": "horizontal",
            "min": 0,
            "description_tooltip": null,
            "_model_module": "@jupyter-widgets/controls",
            "layout": "IPY_MODEL_e673194023c349ea869ec973c3bebc3d"
          }
        },
        "8a1a0378e20e4719938bb8e3980e6e7f": {
          "model_module": "@jupyter-widgets/controls",
          "model_name": "HTMLModel",
          "state": {
            "_view_name": "HTMLView",
            "style": "IPY_MODEL_ed91cdd2dede478f82612c6487949261",
            "_dom_classes": [],
            "description": "",
            "_model_name": "HTMLModel",
            "placeholder": "​",
            "_view_module": "@jupyter-widgets/controls",
            "_model_module_version": "1.5.0",
            "value": " 242M/242M [00:08&lt;00:00, 29.9MB/s]",
            "_view_count": null,
            "_view_module_version": "1.5.0",
            "description_tooltip": null,
            "_model_module": "@jupyter-widgets/controls",
            "layout": "IPY_MODEL_7a70a0300f7d4d5ab0240d3977dccf0d"
          }
        },
        "e05b8990ba614ba5880ce504960b3b19": {
          "model_module": "@jupyter-widgets/controls",
          "model_name": "ProgressStyleModel",
          "state": {
            "_view_name": "StyleView",
            "_model_name": "ProgressStyleModel",
            "description_width": "initial",
            "_view_module": "@jupyter-widgets/base",
            "_model_module_version": "1.5.0",
            "_view_count": null,
            "_view_module_version": "1.2.0",
            "bar_color": null,
            "_model_module": "@jupyter-widgets/controls"
          }
        },
        "e673194023c349ea869ec973c3bebc3d": {
          "model_module": "@jupyter-widgets/base",
          "model_name": "LayoutModel",
          "state": {
            "_view_name": "LayoutView",
            "grid_template_rows": null,
            "right": null,
            "justify_content": null,
            "_view_module": "@jupyter-widgets/base",
            "overflow": null,
            "_model_module_version": "1.2.0",
            "_view_count": null,
            "flex_flow": null,
            "width": null,
            "min_width": null,
            "border": null,
            "align_items": null,
            "bottom": null,
            "_model_module": "@jupyter-widgets/base",
            "top": null,
            "grid_column": null,
            "overflow_y": null,
            "overflow_x": null,
            "grid_auto_flow": null,
            "grid_area": null,
            "grid_template_columns": null,
            "flex": null,
            "_model_name": "LayoutModel",
            "justify_items": null,
            "grid_row": null,
            "max_height": null,
            "align_content": null,
            "visibility": null,
            "align_self": null,
            "height": null,
            "min_height": null,
            "padding": null,
            "grid_auto_rows": null,
            "grid_gap": null,
            "max_width": null,
            "order": null,
            "_view_module_version": "1.2.0",
            "grid_template_areas": null,
            "object_position": null,
            "object_fit": null,
            "grid_auto_columns": null,
            "margin": null,
            "display": null,
            "left": null
          }
        },
        "ed91cdd2dede478f82612c6487949261": {
          "model_module": "@jupyter-widgets/controls",
          "model_name": "DescriptionStyleModel",
          "state": {
            "_view_name": "StyleView",
            "_model_name": "DescriptionStyleModel",
            "description_width": "",
            "_view_module": "@jupyter-widgets/base",
            "_model_module_version": "1.5.0",
            "_view_count": null,
            "_view_module_version": "1.2.0",
            "_model_module": "@jupyter-widgets/controls"
          }
        },
        "7a70a0300f7d4d5ab0240d3977dccf0d": {
          "model_module": "@jupyter-widgets/base",
          "model_name": "LayoutModel",
          "state": {
            "_view_name": "LayoutView",
            "grid_template_rows": null,
            "right": null,
            "justify_content": null,
            "_view_module": "@jupyter-widgets/base",
            "overflow": null,
            "_model_module_version": "1.2.0",
            "_view_count": null,
            "flex_flow": null,
            "width": null,
            "min_width": null,
            "border": null,
            "align_items": null,
            "bottom": null,
            "_model_module": "@jupyter-widgets/base",
            "top": null,
            "grid_column": null,
            "overflow_y": null,
            "overflow_x": null,
            "grid_auto_flow": null,
            "grid_area": null,
            "grid_template_columns": null,
            "flex": null,
            "_model_name": "LayoutModel",
            "justify_items": null,
            "grid_row": null,
            "max_height": null,
            "align_content": null,
            "visibility": null,
            "align_self": null,
            "height": null,
            "min_height": null,
            "padding": null,
            "grid_auto_rows": null,
            "grid_gap": null,
            "max_width": null,
            "order": null,
            "_view_module_version": "1.2.0",
            "grid_template_areas": null,
            "object_position": null,
            "object_fit": null,
            "grid_auto_columns": null,
            "margin": null,
            "display": null,
            "left": null
          }
        },
        "fea53c89c84f408eb3c0332e33536266": {
          "model_module": "@jupyter-widgets/controls",
          "model_name": "HBoxModel",
          "state": {
            "_view_name": "HBoxView",
            "_dom_classes": [],
            "_model_name": "HBoxModel",
            "_view_module": "@jupyter-widgets/controls",
            "_model_module_version": "1.5.0",
            "_view_count": null,
            "_view_module_version": "1.5.0",
            "box_style": "",
            "layout": "IPY_MODEL_369aab4d185549568f5c9b52b7063087",
            "_model_module": "@jupyter-widgets/controls",
            "children": [
              "IPY_MODEL_7d637a7eee254f4c9aa79f64cbdcefe0",
              "IPY_MODEL_e49080147c344943839316c1e7aa781f"
            ]
          }
        },
        "369aab4d185549568f5c9b52b7063087": {
          "model_module": "@jupyter-widgets/base",
          "model_name": "LayoutModel",
          "state": {
            "_view_name": "LayoutView",
            "grid_template_rows": null,
            "right": null,
            "justify_content": null,
            "_view_module": "@jupyter-widgets/base",
            "overflow": null,
            "_model_module_version": "1.2.0",
            "_view_count": null,
            "flex_flow": null,
            "width": null,
            "min_width": null,
            "border": null,
            "align_items": null,
            "bottom": null,
            "_model_module": "@jupyter-widgets/base",
            "top": null,
            "grid_column": null,
            "overflow_y": null,
            "overflow_x": null,
            "grid_auto_flow": null,
            "grid_area": null,
            "grid_template_columns": null,
            "flex": null,
            "_model_name": "LayoutModel",
            "justify_items": null,
            "grid_row": null,
            "max_height": null,
            "align_content": null,
            "visibility": null,
            "align_self": null,
            "height": null,
            "min_height": null,
            "padding": null,
            "grid_auto_rows": null,
            "grid_gap": null,
            "max_width": null,
            "order": null,
            "_view_module_version": "1.2.0",
            "grid_template_areas": null,
            "object_position": null,
            "object_fit": null,
            "grid_auto_columns": null,
            "margin": null,
            "display": null,
            "left": null
          }
        },
        "7d637a7eee254f4c9aa79f64cbdcefe0": {
          "model_module": "@jupyter-widgets/controls",
          "model_name": "FloatProgressModel",
          "state": {
            "_view_name": "ProgressView",
            "style": "IPY_MODEL_87d4ef897b2245a39719457bdfaa37c7",
            "_dom_classes": [],
            "description": "Downloading: 100%",
            "_model_name": "FloatProgressModel",
            "bar_style": "success",
            "max": 791656,
            "_view_module": "@jupyter-widgets/controls",
            "_model_module_version": "1.5.0",
            "value": 791656,
            "_view_count": null,
            "_view_module_version": "1.5.0",
            "orientation": "horizontal",
            "min": 0,
            "description_tooltip": null,
            "_model_module": "@jupyter-widgets/controls",
            "layout": "IPY_MODEL_904227ada78d4320969378d792e91dda"
          }
        },
        "e49080147c344943839316c1e7aa781f": {
          "model_module": "@jupyter-widgets/controls",
          "model_name": "HTMLModel",
          "state": {
            "_view_name": "HTMLView",
            "style": "IPY_MODEL_7225486a132746ecb4d308a69911a3b2",
            "_dom_classes": [],
            "description": "",
            "_model_name": "HTMLModel",
            "placeholder": "​",
            "_view_module": "@jupyter-widgets/controls",
            "_model_module_version": "1.5.0",
            "value": " 792k/792k [00:04&lt;00:00, 171kB/s]",
            "_view_count": null,
            "_view_module_version": "1.5.0",
            "description_tooltip": null,
            "_model_module": "@jupyter-widgets/controls",
            "layout": "IPY_MODEL_3c58983b9e624c4e82bd21ad951f3db8"
          }
        },
        "87d4ef897b2245a39719457bdfaa37c7": {
          "model_module": "@jupyter-widgets/controls",
          "model_name": "ProgressStyleModel",
          "state": {
            "_view_name": "StyleView",
            "_model_name": "ProgressStyleModel",
            "description_width": "initial",
            "_view_module": "@jupyter-widgets/base",
            "_model_module_version": "1.5.0",
            "_view_count": null,
            "_view_module_version": "1.2.0",
            "bar_color": null,
            "_model_module": "@jupyter-widgets/controls"
          }
        },
        "904227ada78d4320969378d792e91dda": {
          "model_module": "@jupyter-widgets/base",
          "model_name": "LayoutModel",
          "state": {
            "_view_name": "LayoutView",
            "grid_template_rows": null,
            "right": null,
            "justify_content": null,
            "_view_module": "@jupyter-widgets/base",
            "overflow": null,
            "_model_module_version": "1.2.0",
            "_view_count": null,
            "flex_flow": null,
            "width": null,
            "min_width": null,
            "border": null,
            "align_items": null,
            "bottom": null,
            "_model_module": "@jupyter-widgets/base",
            "top": null,
            "grid_column": null,
            "overflow_y": null,
            "overflow_x": null,
            "grid_auto_flow": null,
            "grid_area": null,
            "grid_template_columns": null,
            "flex": null,
            "_model_name": "LayoutModel",
            "justify_items": null,
            "grid_row": null,
            "max_height": null,
            "align_content": null,
            "visibility": null,
            "align_self": null,
            "height": null,
            "min_height": null,
            "padding": null,
            "grid_auto_rows": null,
            "grid_gap": null,
            "max_width": null,
            "order": null,
            "_view_module_version": "1.2.0",
            "grid_template_areas": null,
            "object_position": null,
            "object_fit": null,
            "grid_auto_columns": null,
            "margin": null,
            "display": null,
            "left": null
          }
        },
        "7225486a132746ecb4d308a69911a3b2": {
          "model_module": "@jupyter-widgets/controls",
          "model_name": "DescriptionStyleModel",
          "state": {
            "_view_name": "StyleView",
            "_model_name": "DescriptionStyleModel",
            "description_width": "",
            "_view_module": "@jupyter-widgets/base",
            "_model_module_version": "1.5.0",
            "_view_count": null,
            "_view_module_version": "1.2.0",
            "_model_module": "@jupyter-widgets/controls"
          }
        },
        "3c58983b9e624c4e82bd21ad951f3db8": {
          "model_module": "@jupyter-widgets/base",
          "model_name": "LayoutModel",
          "state": {
            "_view_name": "LayoutView",
            "grid_template_rows": null,
            "right": null,
            "justify_content": null,
            "_view_module": "@jupyter-widgets/base",
            "overflow": null,
            "_model_module_version": "1.2.0",
            "_view_count": null,
            "flex_flow": null,
            "width": null,
            "min_width": null,
            "border": null,
            "align_items": null,
            "bottom": null,
            "_model_module": "@jupyter-widgets/base",
            "top": null,
            "grid_column": null,
            "overflow_y": null,
            "overflow_x": null,
            "grid_auto_flow": null,
            "grid_area": null,
            "grid_template_columns": null,
            "flex": null,
            "_model_name": "LayoutModel",
            "justify_items": null,
            "grid_row": null,
            "max_height": null,
            "align_content": null,
            "visibility": null,
            "align_self": null,
            "height": null,
            "min_height": null,
            "padding": null,
            "grid_auto_rows": null,
            "grid_gap": null,
            "max_width": null,
            "order": null,
            "_view_module_version": "1.2.0",
            "grid_template_areas": null,
            "object_position": null,
            "object_fit": null,
            "grid_auto_columns": null,
            "margin": null,
            "display": null,
            "left": null
          }
        },
        "1796268e1914428d8193900ae9337a31": {
          "model_module": "@jupyter-widgets/controls",
          "model_name": "HBoxModel",
          "state": {
            "_view_name": "HBoxView",
            "_dom_classes": [],
            "_model_name": "HBoxModel",
            "_view_module": "@jupyter-widgets/controls",
            "_model_module_version": "1.5.0",
            "_view_count": null,
            "_view_module_version": "1.5.0",
            "box_style": "",
            "layout": "IPY_MODEL_6f8532f3fd2947fda22202cab2c03d6c",
            "_model_module": "@jupyter-widgets/controls",
            "children": [
              "IPY_MODEL_4c244cadbba84150a1f69dfe37deeacf",
              "IPY_MODEL_cefd0399498945d4a7ff07f02f947aab"
            ]
          }
        },
        "6f8532f3fd2947fda22202cab2c03d6c": {
          "model_module": "@jupyter-widgets/base",
          "model_name": "LayoutModel",
          "state": {
            "_view_name": "LayoutView",
            "grid_template_rows": null,
            "right": null,
            "justify_content": null,
            "_view_module": "@jupyter-widgets/base",
            "overflow": null,
            "_model_module_version": "1.2.0",
            "_view_count": null,
            "flex_flow": null,
            "width": null,
            "min_width": null,
            "border": null,
            "align_items": null,
            "bottom": null,
            "_model_module": "@jupyter-widgets/base",
            "top": null,
            "grid_column": null,
            "overflow_y": null,
            "overflow_x": null,
            "grid_auto_flow": null,
            "grid_area": null,
            "grid_template_columns": null,
            "flex": null,
            "_model_name": "LayoutModel",
            "justify_items": null,
            "grid_row": null,
            "max_height": null,
            "align_content": null,
            "visibility": null,
            "align_self": null,
            "height": null,
            "min_height": null,
            "padding": null,
            "grid_auto_rows": null,
            "grid_gap": null,
            "max_width": null,
            "order": null,
            "_view_module_version": "1.2.0",
            "grid_template_areas": null,
            "object_position": null,
            "object_fit": null,
            "grid_auto_columns": null,
            "margin": null,
            "display": null,
            "left": null
          }
        },
        "4c244cadbba84150a1f69dfe37deeacf": {
          "model_module": "@jupyter-widgets/controls",
          "model_name": "FloatProgressModel",
          "state": {
            "_view_name": "ProgressView",
            "style": "IPY_MODEL_9f7aa260a0604a869e1e75e4f33ad49d",
            "_dom_classes": [],
            "description": "Downloading: 100%",
            "_model_name": "FloatProgressModel",
            "bar_style": "success",
            "max": 1389353,
            "_view_module": "@jupyter-widgets/controls",
            "_model_module_version": "1.5.0",
            "value": 1389353,
            "_view_count": null,
            "_view_module_version": "1.5.0",
            "orientation": "horizontal",
            "min": 0,
            "description_tooltip": null,
            "_model_module": "@jupyter-widgets/controls",
            "layout": "IPY_MODEL_ae298a87f0f14810ad920abccac1168c"
          }
        },
        "cefd0399498945d4a7ff07f02f947aab": {
          "model_module": "@jupyter-widgets/controls",
          "model_name": "HTMLModel",
          "state": {
            "_view_name": "HTMLView",
            "style": "IPY_MODEL_7b512d6c180a4040a0c959efd89b4047",
            "_dom_classes": [],
            "description": "",
            "_model_name": "HTMLModel",
            "placeholder": "​",
            "_view_module": "@jupyter-widgets/controls",
            "_model_module_version": "1.5.0",
            "value": " 1.39M/1.39M [00:00&lt;00:00, 1.92MB/s]",
            "_view_count": null,
            "_view_module_version": "1.5.0",
            "description_tooltip": null,
            "_model_module": "@jupyter-widgets/controls",
            "layout": "IPY_MODEL_b9c820d6954c4abf81a56210715f0fa7"
          }
        },
        "9f7aa260a0604a869e1e75e4f33ad49d": {
          "model_module": "@jupyter-widgets/controls",
          "model_name": "ProgressStyleModel",
          "state": {
            "_view_name": "StyleView",
            "_model_name": "ProgressStyleModel",
            "description_width": "initial",
            "_view_module": "@jupyter-widgets/base",
            "_model_module_version": "1.5.0",
            "_view_count": null,
            "_view_module_version": "1.2.0",
            "bar_color": null,
            "_model_module": "@jupyter-widgets/controls"
          }
        },
        "ae298a87f0f14810ad920abccac1168c": {
          "model_module": "@jupyter-widgets/base",
          "model_name": "LayoutModel",
          "state": {
            "_view_name": "LayoutView",
            "grid_template_rows": null,
            "right": null,
            "justify_content": null,
            "_view_module": "@jupyter-widgets/base",
            "overflow": null,
            "_model_module_version": "1.2.0",
            "_view_count": null,
            "flex_flow": null,
            "width": null,
            "min_width": null,
            "border": null,
            "align_items": null,
            "bottom": null,
            "_model_module": "@jupyter-widgets/base",
            "top": null,
            "grid_column": null,
            "overflow_y": null,
            "overflow_x": null,
            "grid_auto_flow": null,
            "grid_area": null,
            "grid_template_columns": null,
            "flex": null,
            "_model_name": "LayoutModel",
            "justify_items": null,
            "grid_row": null,
            "max_height": null,
            "align_content": null,
            "visibility": null,
            "align_self": null,
            "height": null,
            "min_height": null,
            "padding": null,
            "grid_auto_rows": null,
            "grid_gap": null,
            "max_width": null,
            "order": null,
            "_view_module_version": "1.2.0",
            "grid_template_areas": null,
            "object_position": null,
            "object_fit": null,
            "grid_auto_columns": null,
            "margin": null,
            "display": null,
            "left": null
          }
        },
        "7b512d6c180a4040a0c959efd89b4047": {
          "model_module": "@jupyter-widgets/controls",
          "model_name": "DescriptionStyleModel",
          "state": {
            "_view_name": "StyleView",
            "_model_name": "DescriptionStyleModel",
            "description_width": "",
            "_view_module": "@jupyter-widgets/base",
            "_model_module_version": "1.5.0",
            "_view_count": null,
            "_view_module_version": "1.2.0",
            "_model_module": "@jupyter-widgets/controls"
          }
        },
        "b9c820d6954c4abf81a56210715f0fa7": {
          "model_module": "@jupyter-widgets/base",
          "model_name": "LayoutModel",
          "state": {
            "_view_name": "LayoutView",
            "grid_template_rows": null,
            "right": null,
            "justify_content": null,
            "_view_module": "@jupyter-widgets/base",
            "overflow": null,
            "_model_module_version": "1.2.0",
            "_view_count": null,
            "flex_flow": null,
            "width": null,
            "min_width": null,
            "border": null,
            "align_items": null,
            "bottom": null,
            "_model_module": "@jupyter-widgets/base",
            "top": null,
            "grid_column": null,
            "overflow_y": null,
            "overflow_x": null,
            "grid_auto_flow": null,
            "grid_area": null,
            "grid_template_columns": null,
            "flex": null,
            "_model_name": "LayoutModel",
            "justify_items": null,
            "grid_row": null,
            "max_height": null,
            "align_content": null,
            "visibility": null,
            "align_self": null,
            "height": null,
            "min_height": null,
            "padding": null,
            "grid_auto_rows": null,
            "grid_gap": null,
            "max_width": null,
            "order": null,
            "_view_module_version": "1.2.0",
            "grid_template_areas": null,
            "object_position": null,
            "object_fit": null,
            "grid_auto_columns": null,
            "margin": null,
            "display": null,
            "left": null
          }
        }
      }
    }
  },
  "cells": [
    {
      "cell_type": "markdown",
      "metadata": {
        "id": "-jkO8BFdsjWF"
      },
      "source": [
        "# Install packages"
      ]
    },
    {
      "cell_type": "code",
      "metadata": {
        "colab": {
          "base_uri": "https://localhost:8080/"
        },
        "id": "Fx8xQH9OBWmQ",
        "outputId": "ea0908f6-03b3-495d-8a22-9383e0954356"
      },
      "source": [
        "!pip install gdown\n",
        "!pip install torch\n",
        "!pip install transformers\n",
        "!pip install sentencepiece\n",
        "!pip install git+https://github.com/Sultan-IH/SNLP-Group"
      ],
      "execution_count": 8,
      "outputs": [
        {
          "output_type": "stream",
          "text": [
            "Requirement already satisfied: gdown in /usr/local/lib/python3.7/dist-packages (3.6.4)\n",
            "Requirement already satisfied: six in /usr/local/lib/python3.7/dist-packages (from gdown) (1.15.0)\n",
            "Requirement already satisfied: requests in /usr/local/lib/python3.7/dist-packages (from gdown) (2.23.0)\n",
            "Requirement already satisfied: tqdm in /usr/local/lib/python3.7/dist-packages (from gdown) (4.41.1)\n",
            "Requirement already satisfied: idna<3,>=2.5 in /usr/local/lib/python3.7/dist-packages (from requests->gdown) (2.10)\n",
            "Requirement already satisfied: chardet<4,>=3.0.2 in /usr/local/lib/python3.7/dist-packages (from requests->gdown) (3.0.4)\n",
            "Requirement already satisfied: urllib3!=1.25.0,!=1.25.1,<1.26,>=1.21.1 in /usr/local/lib/python3.7/dist-packages (from requests->gdown) (1.24.3)\n",
            "Requirement already satisfied: certifi>=2017.4.17 in /usr/local/lib/python3.7/dist-packages (from requests->gdown) (2020.12.5)\n",
            "Requirement already satisfied: torch in /usr/local/lib/python3.7/dist-packages (1.8.1+cu101)\n",
            "Requirement already satisfied: typing-extensions in /usr/local/lib/python3.7/dist-packages (from torch) (3.7.4.3)\n",
            "Requirement already satisfied: numpy in /usr/local/lib/python3.7/dist-packages (from torch) (1.19.5)\n",
            "Collecting transformers\n",
            "\u001b[?25l  Downloading https://files.pythonhosted.org/packages/d5/43/cfe4ee779bbd6a678ac6a97c5a5cdeb03c35f9eaebbb9720b036680f9a2d/transformers-4.6.1-py3-none-any.whl (2.2MB)\n",
            "\u001b[K     |████████████████████████████████| 2.3MB 2.9MB/s \n",
            "\u001b[?25hRequirement already satisfied: regex!=2019.12.17 in /usr/local/lib/python3.7/dist-packages (from transformers) (2019.12.20)\n",
            "Requirement already satisfied: tqdm>=4.27 in /usr/local/lib/python3.7/dist-packages (from transformers) (4.41.1)\n",
            "Requirement already satisfied: numpy>=1.17 in /usr/local/lib/python3.7/dist-packages (from transformers) (1.19.5)\n",
            "Collecting tokenizers<0.11,>=0.10.1\n",
            "\u001b[?25l  Downloading https://files.pythonhosted.org/packages/d4/e2/df3543e8ffdab68f5acc73f613de9c2b155ac47f162e725dcac87c521c11/tokenizers-0.10.3-cp37-cp37m-manylinux_2_5_x86_64.manylinux1_x86_64.manylinux_2_12_x86_64.manylinux2010_x86_64.whl (3.3MB)\n",
            "\u001b[K     |████████████████████████████████| 3.3MB 16.8MB/s \n",
            "\u001b[?25hRequirement already satisfied: packaging in /usr/local/lib/python3.7/dist-packages (from transformers) (20.9)\n",
            "Requirement already satisfied: requests in /usr/local/lib/python3.7/dist-packages (from transformers) (2.23.0)\n",
            "Collecting sacremoses\n",
            "\u001b[?25l  Downloading https://files.pythonhosted.org/packages/75/ee/67241dc87f266093c533a2d4d3d69438e57d7a90abb216fa076e7d475d4a/sacremoses-0.0.45-py3-none-any.whl (895kB)\n",
            "\u001b[K     |████████████████████████████████| 901kB 27.9MB/s \n",
            "\u001b[?25hCollecting huggingface-hub==0.0.8\n",
            "  Downloading https://files.pythonhosted.org/packages/a1/88/7b1e45720ecf59c6c6737ff332f41c955963090a18e72acbcbeac6b25e86/huggingface_hub-0.0.8-py3-none-any.whl\n",
            "Requirement already satisfied: filelock in /usr/local/lib/python3.7/dist-packages (from transformers) (3.0.12)\n",
            "Requirement already satisfied: importlib-metadata; python_version < \"3.8\" in /usr/local/lib/python3.7/dist-packages (from transformers) (4.0.1)\n",
            "Requirement already satisfied: pyparsing>=2.0.2 in /usr/local/lib/python3.7/dist-packages (from packaging->transformers) (2.4.7)\n",
            "Requirement already satisfied: idna<3,>=2.5 in /usr/local/lib/python3.7/dist-packages (from requests->transformers) (2.10)\n",
            "Requirement already satisfied: urllib3!=1.25.0,!=1.25.1,<1.26,>=1.21.1 in /usr/local/lib/python3.7/dist-packages (from requests->transformers) (1.24.3)\n",
            "Requirement already satisfied: certifi>=2017.4.17 in /usr/local/lib/python3.7/dist-packages (from requests->transformers) (2020.12.5)\n",
            "Requirement already satisfied: chardet<4,>=3.0.2 in /usr/local/lib/python3.7/dist-packages (from requests->transformers) (3.0.4)\n",
            "Requirement already satisfied: six in /usr/local/lib/python3.7/dist-packages (from sacremoses->transformers) (1.15.0)\n",
            "Requirement already satisfied: click in /usr/local/lib/python3.7/dist-packages (from sacremoses->transformers) (7.1.2)\n",
            "Requirement already satisfied: joblib in /usr/local/lib/python3.7/dist-packages (from sacremoses->transformers) (1.0.1)\n",
            "Requirement already satisfied: zipp>=0.5 in /usr/local/lib/python3.7/dist-packages (from importlib-metadata; python_version < \"3.8\"->transformers) (3.4.1)\n",
            "Requirement already satisfied: typing-extensions>=3.6.4; python_version < \"3.8\" in /usr/local/lib/python3.7/dist-packages (from importlib-metadata; python_version < \"3.8\"->transformers) (3.7.4.3)\n",
            "Installing collected packages: tokenizers, sacremoses, huggingface-hub, transformers\n",
            "Successfully installed huggingface-hub-0.0.8 sacremoses-0.0.45 tokenizers-0.10.3 transformers-4.6.1\n",
            "Collecting sentencepiece\n",
            "\u001b[?25l  Downloading https://files.pythonhosted.org/packages/f5/99/e0808cb947ba10f575839c43e8fafc9cc44e4a7a2c8f79c60db48220a577/sentencepiece-0.1.95-cp37-cp37m-manylinux2014_x86_64.whl (1.2MB)\n",
            "\u001b[K     |████████████████████████████████| 1.2MB 2.9MB/s \n",
            "\u001b[?25hInstalling collected packages: sentencepiece\n",
            "Successfully installed sentencepiece-0.1.95\n",
            "Collecting git+https://github.com/Sultan-IH/SNLP-Group\n",
            "  Cloning https://github.com/Sultan-IH/SNLP-Group to /tmp/pip-req-build-wxrqhzsj\n",
            "  Running command git clone -q https://github.com/Sultan-IH/SNLP-Group /tmp/pip-req-build-wxrqhzsj\n",
            "Building wheels for collected packages: src\n",
            "  Building wheel for src (setup.py) ... \u001b[?25l\u001b[?25hdone\n",
            "  Created wheel for src: filename=src-0.0-cp37-none-any.whl size=4395 sha256=33b543e0a6184fb12fb28866b928b22e82c818edced41ba619e5c79c3b172190\n",
            "  Stored in directory: /tmp/pip-ephem-wheel-cache-ecuoueqk/wheels/03/c8/2b/284b77eeabc3bb5535095272454f28fc6fe8722a07ce7bda94\n",
            "Successfully built src\n",
            "Installing collected packages: src\n",
            "Successfully installed src-0.0\n"
          ],
          "name": "stdout"
        }
      ]
    },
    {
      "cell_type": "markdown",
      "metadata": {
        "id": "UdKX3MZtsofc"
      },
      "source": [
        "# Download dataset and model weights"
      ]
    },
    {
      "cell_type": "code",
      "metadata": {
        "colab": {
          "base_uri": "https://localhost:8080/"
        },
        "id": "JhWEysYCBfQl",
        "outputId": "a051efaa-597d-4de8-c79d-b43a5294b6f4"
      },
      "source": [
        "!gdown https://drive.google.com/uc?id=1OBGCjRP2UVIj8maSDteB2oCvoqKPTuh7"
      ],
      "execution_count": 9,
      "outputs": [
        {
          "output_type": "stream",
          "text": [
            "Downloading...\n",
            "From: https://drive.google.com/uc?id=1OBGCjRP2UVIj8maSDteB2oCvoqKPTuh7\n",
            "To: /content/generator.pt\n",
            "242MB [00:01, 164MB/s]\n"
          ],
          "name": "stdout"
        }
      ]
    },
    {
      "cell_type": "code",
      "metadata": {
        "colab": {
          "base_uri": "https://localhost:8080/"
        },
        "id": "0-H49Nr5srVJ",
        "outputId": "3e9c044e-e707-4124-9a28-9ea6e2ec4c02"
      },
      "source": [
        "!rm -rf data\n",
        "!rm daily_dialog.zip\n",
        "\n",
        "!wget -O daily_dialog.zip http://yanran.li/files/ijcnlp_dailydialog.zip\n",
        "!unzip daily_dialog.zip \n",
        "!rm daily_dialog.zip \n",
        "\n",
        "!mv ijcnlp_dailydialog data\n",
        "!unzip data/train.zip -d data\n",
        "!unzip data/test.zip -d data\n",
        "!unzip data/validation.zip -d data"
      ],
      "execution_count": 10,
      "outputs": [
        {
          "output_type": "stream",
          "text": [
            "rm: cannot remove 'daily_dialog.zip': No such file or directory\n",
            "--2021-06-01 12:45:27--  http://yanran.li/files/ijcnlp_dailydialog.zip\n",
            "Resolving yanran.li (yanran.li)... 192.30.252.153, 192.30.252.154, 207.97.227.245\n",
            "Connecting to yanran.li (yanran.li)|192.30.252.153|:80... connected.\n",
            "HTTP request sent, awaiting response... 200 OK\n",
            "Length: 4475921 (4.3M) [application/zip]\n",
            "Saving to: ‘daily_dialog.zip’\n",
            "\n",
            "daily_dialog.zip    100%[===================>]   4.27M  3.05MB/s    in 1.4s    \n",
            "\n",
            "2021-06-01 12:45:29 (3.05 MB/s) - ‘daily_dialog.zip’ saved [4475921/4475921]\n",
            "\n",
            "Archive:  daily_dialog.zip\n",
            "   creating: ijcnlp_dailydialog/\n",
            "  inflating: ijcnlp_dailydialog/.DS_Store  \n",
            "  inflating: ijcnlp_dailydialog/dialogues_act.txt  \n",
            "  inflating: ijcnlp_dailydialog/dialogues_emotion.txt  \n",
            "  inflating: ijcnlp_dailydialog/dialogues_text.txt  \n",
            "  inflating: ijcnlp_dailydialog/dialogues_topic.txt  \n",
            "  inflating: ijcnlp_dailydialog/readme.txt  \n",
            "  inflating: ijcnlp_dailydialog/test.zip  \n",
            " extracting: ijcnlp_dailydialog/train.zip  \n",
            "  inflating: ijcnlp_dailydialog/validation.zip  \n",
            "Archive:  data/train.zip\n",
            "   creating: data/train/\n",
            "  inflating: data/train/dialogues_act_train.txt  \n",
            "  inflating: data/train/dialogues_emotion_train.txt  \n",
            "  inflating: data/train/dialogues_train.txt  \n",
            "Archive:  data/test.zip\n",
            "   creating: data/test/\n",
            "  inflating: data/test/dialogues_act_test.txt  \n",
            "  inflating: data/test/dialogues_emotion_test.txt  \n",
            "  inflating: data/test/dialogues_test.txt  \n",
            "Archive:  data/validation.zip\n",
            "   creating: data/validation/\n",
            "  inflating: data/validation/dialogues_act_validation.txt  \n",
            "  inflating: data/validation/dialogues_emotion_validation.txt  \n",
            "  inflating: data/validation/dialogues_validation.txt  \n"
          ],
          "name": "stdout"
        }
      ]
    },
    {
      "cell_type": "markdown",
      "metadata": {
        "id": "pKoeFe5Es2O4"
      },
      "source": [
        "# Imports"
      ]
    },
    {
      "cell_type": "code",
      "metadata": {
        "id": "x2AdgeBPBfNl"
      },
      "source": [
        "from src.generator import Generator\n",
        "from src.dataset import DailyDialogueDataset\n",
        "from src.utils import print_dialogue"
      ],
      "execution_count": 11,
      "outputs": []
    },
    {
      "cell_type": "code",
      "metadata": {
        "colab": {
          "base_uri": "https://localhost:8080/",
          "height": 248,
          "referenced_widgets": [
            "4c9a768af6d540c0889f2639a32934c2",
            "8fa38d58639f4bfdaf15554aebe14948",
            "e76abf3fa1184622921a9b193dbbbce9",
            "80dea88d30074cd6b35c3e919ba55d4d",
            "04f4e343011e40328e425d7b700c37b3",
            "7cc3c5fecb6c4a14af70b57bef2b477f",
            "dab71b42c2404a71a0cd444127b05250",
            "69651c046bc7496bacb6fec55a85b40d",
            "c017f30a0c964f38bb30624c008dc07d",
            "4bfb0bdf1cd246a2831884eca8cb13f7",
            "a1ef8802105a4d8fbb4c07f27b75db7a",
            "8a1a0378e20e4719938bb8e3980e6e7f",
            "e05b8990ba614ba5880ce504960b3b19",
            "e673194023c349ea869ec973c3bebc3d",
            "ed91cdd2dede478f82612c6487949261",
            "7a70a0300f7d4d5ab0240d3977dccf0d",
            "fea53c89c84f408eb3c0332e33536266",
            "369aab4d185549568f5c9b52b7063087",
            "7d637a7eee254f4c9aa79f64cbdcefe0",
            "e49080147c344943839316c1e7aa781f",
            "87d4ef897b2245a39719457bdfaa37c7",
            "904227ada78d4320969378d792e91dda",
            "7225486a132746ecb4d308a69911a3b2",
            "3c58983b9e624c4e82bd21ad951f3db8",
            "1796268e1914428d8193900ae9337a31",
            "6f8532f3fd2947fda22202cab2c03d6c",
            "4c244cadbba84150a1f69dfe37deeacf",
            "cefd0399498945d4a7ff07f02f947aab",
            "9f7aa260a0604a869e1e75e4f33ad49d",
            "ae298a87f0f14810ad920abccac1168c",
            "7b512d6c180a4040a0c959efd89b4047",
            "b9c820d6954c4abf81a56210715f0fa7"
          ]
        },
        "id": "T5joA7_RBfKT",
        "outputId": "06000943-3f04-43cf-aee1-ee5445dd822a"
      },
      "source": [
        "generator = Generator.from_file(\"generator.pt\")"
      ],
      "execution_count": 12,
      "outputs": [
        {
          "output_type": "display_data",
          "data": {
            "application/vnd.jupyter.widget-view+json": {
              "model_id": "4c9a768af6d540c0889f2639a32934c2",
              "version_minor": 0,
              "version_major": 2
            },
            "text/plain": [
              "HBox(children=(FloatProgress(value=0.0, description='Downloading', max=1197.0, style=ProgressStyle(description…"
            ]
          },
          "metadata": {
            "tags": []
          }
        },
        {
          "output_type": "stream",
          "text": [
            "\n"
          ],
          "name": "stdout"
        },
        {
          "output_type": "display_data",
          "data": {
            "application/vnd.jupyter.widget-view+json": {
              "model_id": "c017f30a0c964f38bb30624c008dc07d",
              "version_minor": 0,
              "version_major": 2
            },
            "text/plain": [
              "HBox(children=(FloatProgress(value=0.0, description='Downloading', max=242065649.0, style=ProgressStyle(descri…"
            ]
          },
          "metadata": {
            "tags": []
          }
        },
        {
          "output_type": "stream",
          "text": [
            "\n"
          ],
          "name": "stdout"
        },
        {
          "output_type": "display_data",
          "data": {
            "application/vnd.jupyter.widget-view+json": {
              "model_id": "fea53c89c84f408eb3c0332e33536266",
              "version_minor": 0,
              "version_major": 2
            },
            "text/plain": [
              "HBox(children=(FloatProgress(value=0.0, description='Downloading', max=791656.0, style=ProgressStyle(descripti…"
            ]
          },
          "metadata": {
            "tags": []
          }
        },
        {
          "output_type": "stream",
          "text": [
            "\n"
          ],
          "name": "stdout"
        },
        {
          "output_type": "display_data",
          "data": {
            "application/vnd.jupyter.widget-view+json": {
              "model_id": "1796268e1914428d8193900ae9337a31",
              "version_minor": 0,
              "version_major": 2
            },
            "text/plain": [
              "HBox(children=(FloatProgress(value=0.0, description='Downloading', max=1389353.0, style=ProgressStyle(descript…"
            ]
          },
          "metadata": {
            "tags": []
          }
        },
        {
          "output_type": "stream",
          "text": [
            "Special tokens have been added in the vocabulary, make sure the associated word embeddings are fine-tuned or trained.\n"
          ],
          "name": "stderr"
        },
        {
          "output_type": "stream",
          "text": [
            "\n"
          ],
          "name": "stdout"
        }
      ]
    },
    {
      "cell_type": "code",
      "metadata": {
        "colab": {
          "base_uri": "https://localhost:8080/"
        },
        "id": "9O3HN_OuwLa9",
        "outputId": "10c35c3f-073e-4095-cc26-60e077356b12"
      },
      "source": [
        "dataset = DailyDialogueDataset(\n",
        "      \"data/test/dialogues_test.txt\",\n",
        "      tokenizer=generator.tokenizer,\n",
        "  )"
      ],
      "execution_count": 13,
      "outputs": [
        {
          "output_type": "stream",
          "text": [
            "Truncation was not explicitly activated but `max_length` is provided a specific value, please use `truncation=True` to explicitly truncate examples to max length. Defaulting to 'longest_first' truncation strategy. If you encode pairs of sequences (GLUE-style) with the tokenizer you can select this strategy more precisely by providing a specific strategy to `truncation`.\n"
          ],
          "name": "stderr"
        }
      ]
    },
    {
      "cell_type": "markdown",
      "metadata": {
        "id": "1oj3zfVwyKdV"
      },
      "source": [
        "# Results on the test data"
      ]
    },
    {
      "cell_type": "code",
      "metadata": {
        "colab": {
          "base_uri": "https://localhost:8080/"
        },
        "id": "Lsw1cwgZBfEQ",
        "outputId": "8f2c590f-ffdb-4f6d-daf5-eeba173a154e"
      },
      "source": [
        "for i in range(10):\n",
        "  context, real_reply = dataset[i]\n",
        "  fake_reply = generator.generate(context)\n",
        "  print_dialogue(context, real_reply, fake_reply=fake_reply, tokenizer=generator.tokenizer)\n",
        "  print(\"\")"
      ],
      "execution_count": 14,
      "outputs": [
        {
          "output_type": "stream",
          "text": [
            "PERSON A: Hey man, you wanna buy some weed? \n",
            "PERSON B:  Some what? \n",
            "PERSON A:  Weed! You know? Pot, Ganja, Mary Jane some chronic! \n",
            "PERSON B:  Oh, umm, no thanks. \n",
            "PERSON A:  I also have blow if you prefer to do a few lines. \n",
            "PERSON B:  No, I am ok, really. \n",
            "PERSON A:  Come on man! I even got dope and acid! Try some! \n",
            "PERSON B:  Do you really have all of these drugs? Where do you get them from? \n",
            "PERSON A:  I got my connections! Just tell me what you want and I ’ ll even give you one ounce for free. \n",
            "PERSON B:  Sounds good! Let ’ s see, I want. \n",
            "PERSON A:  Yeah?</s>\n",
            "REAL REPLY: I want you to put your hands behind your head! You are under arrest!</s>\n",
            "FAKE REPLY: I ’ m a little nervous!</s>\n",
            "\n",
            "PERSON A: The taxi drivers are on strike again. \n",
            "PERSON B:  What for? \n",
            "PERSON A:  They want the government to reduce the price of the gasoline.</s>\n",
            "REAL REPLY: It is really a hot potato.</s>\n",
            "FAKE REPLY: Why?</s>\n",
            "\n",
            "PERSON A: We've managed to reduce our energy consumption in our factory by about 15 per cent in the last two years. \n",
            "PERSON B:  That's excellent. How have you managed that? \n",
            "PERSON A:  Mainly because we've invested in a heat recovery system. \n",
            "PERSON B:  What does that mean exactly? \n",
            "PERSON A:  Well, we use the exhaust gases from our printing presses to provide energy to heat our dryers. \n",
            "PERSON B:  What other sources of energy do you use?</s>\n",
            "REAL REPLY: We don't use any fossil fuels. Most of our power comes from hydro-electric plants. We're hoping to use even more energy from alternative sources in the future - perhaps even wind power.</s>\n",
            "FAKE REPLY: We use a lot of other sources.</s>\n",
            "\n",
            "PERSON A: Believe it or not, tea is the most popular beverage in the world after water. \n",
            "PERSON B:  Well, people from Asia to Europe all enjoy tea. \n",
            "PERSON A:  Right. And China is the homeland of tea. \n",
            "PERSON B:  Yes, Chinese people love drinking tea so much. Some even claim they can't live without tea. \n",
            "PERSON A:  Do you know there are several catagories of Chinese tea? \n",
            "PERSON B:  Yes, I believe there are green teas, black teas and scented teas. Any Others? \n",
            "PERSON A:  Well, have you ever heard of Oulong tea and compressed tea? \n",
            "PERSON B:  Oh, yeah. Oulong tea is good for one's health. isn't it? \n",
            "PERSON A:  You surely know a lot about Chinese tea. \n",
            "PERSON B:  Sure, I like drinking tea at teahouses. \n",
            "PERSON A:  Oh, so do I. \n",
            "PERSON B:  Why don't we go for one now? \n",
            "PERSON A:  Great. We can chat while enjoying a cup there.</s>\n",
            "REAL REPLY: Let's go!</s>\n",
            "FAKE REPLY: Sure.</s>\n",
            "\n",
            "PERSON A: What are your personal weaknesses? \n",
            "PERSON B:  I ’ m afraid I ’ m a poor talker. I ’ m not comfortable talking with the people whom I have just met for the first time. That is not very good for business, so I have been studying public speaking. \n",
            "PERSON A:  Are you more of a leader or a follower? \n",
            "PERSON B:  I don ’ t try to lead people. I ’ d rather cooperate with everybody, and get the job done by working together. \n",
            "PERSON A:  Do you think you can make yourself easily understood in English? \n",
            "PERSON B:  Yes, in most circumstances. \n",
            "PERSON A:  Are you available for travel?</s>\n",
            "REAL REPLY: Yes, I like travelling. I am young, and unmarried. It ’ s no problem for me to travel frequently.</s>\n",
            "FAKE REPLY: Yes, I am.</s>\n",
            "\n",
            "PERSON A: how long will it take us to drive to London? \n",
            "PERSON B:  I think it ’ s a distance of 180 kilometers from here to London, so it should be a two-hour drive on the motorway. \n",
            "PERSON A:  that ’ s unless there is a traffic jam. It could take three hours. \n",
            "PERSON B:  you ’ re right. We will be able to travel at high speeds at the beginning and end of the journey, because we will be in built-up areas. \n",
            "PERSON A:  so, shall we allow three hours to cover the distance? \n",
            "PERSON B:  ok. You haven ’ t seen my company car, have you? \n",
            "PERSON A:  no. let me take a look... it ’ s longer than my car. \n",
            "PERSON B:  I think it ’ s over five meters long. I can ’ t remember exactly. It has a maximum speed of over 200 kilometers an hour. \n",
            "PERSON A:  wow! That ’ s fast! I don ’ t think we will be traveling that fast on the motorway.</s>\n",
            "REAL REPLY: we can ’ t. if we went that fast, we would break the speed limit.</s>\n",
            "FAKE REPLY: that ’ s right. I ’ ll take a look at the car.</s>\n",
            "\n",
            "PERSON A: So how did I do on my driving test? \n",
            "PERSON B:  Do you want the truth? \n",
            "PERSON A:  Of course, I do. \n",
            "PERSON B:  Well, you really didn't do all that well. \n",
            "PERSON A:  How bad did I do? \n",
            "PERSON B:  To be completely honest, you failed your test. \n",
            "PERSON A:  How? \n",
            "PERSON B:  There were a number of reasons. \n",
            "PERSON A:  What were they? \n",
            "PERSON B:  Basically, you just can't drive. \n",
            "PERSON A:  Can I have another try?</s>\n",
            "REAL REPLY: You can take it in a couple weeks.</s>\n",
            "FAKE REPLY: No, you can't drive.</s>\n",
            "\n",
            "PERSON A: Good morning. What's the matter with you? \n",
            "PERSON B:  Good morning, doctor. I have a terrible headache. \n",
            "PERSON A:  All right, young man. Tell me how it got started. \n",
            "PERSON B:  Yesterday I had a runny nose. Now my nose is stuffed up. I have a sore throat. And I ’ m afraid I've got a temperature. I feel terrible. \n",
            "PERSON A:  Don't worry, young man. Lat me give you an examination. First let me take a look at your throat. Open your mouth and say'ah '. \n",
            "PERSON B:  Ah. \n",
            "PERSON A:  Your throat is inflamed. And your tongue is heavily coated. You have all the symptoms of influenza. \n",
            "PERSON B:  What am I supposed to do then? \n",
            "PERSON A:  A good rest is all you need, and drink more water. I'll write you a prescription.</s>\n",
            "REAL REPLY: Thank you very much.</s>\n",
            "FAKE REPLY: Thank you.</s>\n",
            "\n",
            "PERSON A: My dear, what's for supper? \n",
            "PERSON B:  Red cooked carp and rape with fresh mushrooms. \n",
            "PERSON A:  What about soup? \n",
            "PERSON B:  Sour-peppery soup. \n",
            "PERSON A:  Which condiment do you use for? \n",
            "PERSON B:  I'll use ginger, garlic scallion, hot pepper and vinegar. \n",
            "PERSON A:  Very good, need I help you? \n",
            "PERSON B:  No, don't need, I can do myself. \n",
            "PERSON A:  Thanks. I can watch TV now. \n",
            "PERSON B:  But you must cook that dinner next time.</s>\n",
            "REAL REPLY: Okay, I'll do it next time.</s>\n",
            "FAKE REPLY: I know. I'll cook it.</s>\n",
            "\n",
            "PERSON A: Hello, this is Mike, Kara. \n",
            "PERSON B:  Mike! Good to hear from you. How are you? \n",
            "PERSON A:  Everything is fine, and how are you? \n",
            "PERSON B:  Things are going well with me. \n",
            "PERSON A:  Kara, I had fun the other night at the movies and was wondering if you would like to go out again this Friday. \n",
            "PERSON B:  Mike, I don't think that it's a good idea to go out again. I really need to focus on getting packed and ready to move back home. \n",
            "PERSON A:  Maybe we could just meet for coffee or something.</s>\n",
            "REAL REPLY: I can't really deal with any distractions right now, but I appreciate the nice evening we spent together.</s>\n",
            "FAKE REPLY: I'm not sure. I'm not sure if I'll be able to do that.</s>\n",
            "\n"
          ],
          "name": "stdout"
        }
      ]
    },
    {
      "cell_type": "markdown",
      "metadata": {
        "id": "ORl8sbFzyOVe"
      },
      "source": [
        "# Custom dialogue"
      ]
    },
    {
      "cell_type": "code",
      "metadata": {
        "id": "rk7eUDz8BfA7"
      },
      "source": [
        "generator.reset()"
      ],
      "execution_count": 20,
      "outputs": []
    },
    {
      "cell_type": "code",
      "metadata": {
        "colab": {
          "base_uri": "https://localhost:8080/",
          "height": 58
        },
        "id": "CcXSVQuTBe-E",
        "outputId": "fde128e0-d204-48e8-c36a-7f82ef99b0dc"
      },
      "source": [
        "generator.reply(\"Hi, what's your name?\", do_sample=True)"
      ],
      "execution_count": 21,
      "outputs": [
        {
          "output_type": "execute_result",
          "data": {
            "application/vnd.google.colaboratory.intrinsic+json": {
              "type": "string"
            },
            "text/plain": [
              "'My name is David.</s>'"
            ]
          },
          "metadata": {
            "tags": []
          },
          "execution_count": 21
        }
      ]
    },
    {
      "cell_type": "code",
      "metadata": {
        "colab": {
          "base_uri": "https://localhost:8080/",
          "height": 58
        },
        "id": "Vw-oSUhgBe69",
        "outputId": "2fcb795b-5a55-4e64-e320-a78e68be5d58"
      },
      "source": [
        "generator.reply(\"Do you have a hobby?\", do_sample=True)"
      ],
      "execution_count": 22,
      "outputs": [
        {
          "output_type": "execute_result",
          "data": {
            "application/vnd.google.colaboratory.intrinsic+json": {
              "type": "string"
            },
            "text/plain": [
              "'Yes, I like gardening.</s>'"
            ]
          },
          "metadata": {
            "tags": []
          },
          "execution_count": 22
        }
      ]
    },
    {
      "cell_type": "code",
      "metadata": {
        "colab": {
          "base_uri": "https://localhost:8080/",
          "height": 58
        },
        "id": "QZTk1sLNBe4Y",
        "outputId": "9c4ed263-5ee8-4804-f058-5d3d8e3fb4b2"
      },
      "source": [
        "generator.reply(\"Sounds interesting!\", do_sample=True)"
      ],
      "execution_count": 23,
      "outputs": [
        {
          "output_type": "execute_result",
          "data": {
            "application/vnd.google.colaboratory.intrinsic+json": {
              "type": "string"
            },
            "text/plain": [
              "'What kind of gardening do you like?</s>'"
            ]
          },
          "metadata": {
            "tags": []
          },
          "execution_count": 23
        }
      ]
    },
    {
      "cell_type": "code",
      "metadata": {
        "id": "2FSxqd7CBeyq"
      },
      "source": [
        ""
      ],
      "execution_count": 19,
      "outputs": []
    },
    {
      "cell_type": "code",
      "metadata": {
        "id": "z2-y2ElUBemx"
      },
      "source": [
        ""
      ],
      "execution_count": 19,
      "outputs": []
    },
    {
      "cell_type": "code",
      "metadata": {
        "id": "gElHH5-sBdwx"
      },
      "source": [
        ""
      ],
      "execution_count": 19,
      "outputs": []
    }
  ]
}